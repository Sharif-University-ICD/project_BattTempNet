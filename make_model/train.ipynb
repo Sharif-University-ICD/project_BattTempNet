{
 "cells": [
  {
   "cell_type": "markdown",
   "metadata": {},
   "source": [
    "# Battery Temperature Prediction using Neural Network Model\n",
    "\n",
    "This notebook demonstrates the process of predicting battery temperature using a neural network model in TensorFlow. The dataset includes information on voltage, current, state, time, and measured temperature. The data is preprocessed, and a neural network model is trained to predict temperature values. After training, the model is converted to TensorFlow Lite format for inference on mobile or embedded devices.\n"
   ]
  },
  {
   "cell_type": "code",
   "execution_count": 1,
   "metadata": {},
   "outputs": [],
   "source": [
    "import pandas as pd\n",
    "import numpy as np\n",
    "import tensorflow as tf\n",
    "from sklearn.preprocessing import StandardScaler\n",
    "from sklearn.model_selection import train_test_split\n",
    "import matplotlib.pyplot as plt"
   ]
  },
  {
   "cell_type": "code",
   "execution_count": 2,
   "metadata": {},
   "outputs": [],
   "source": [
    "# 1.load datasets\n",
    "data = pd.read_csv('dataset.csv')"
   ]
  },
  {
   "cell_type": "code",
   "execution_count": 3,
   "metadata": {},
   "outputs": [],
   "source": [
    "#2. Data Preprocessing\n",
    "data = data[['Voltage_measured (Volts)', 'Current_measured (Amps)', 'state', 'Time (secs)', 'Temperature_measured (C)']]\n",
    "\n"
   ]
  },
  {
   "cell_type": "code",
   "execution_count": 4,
   "metadata": {},
   "outputs": [],
   "source": [
    "# Convert 'state' feature to one-hot encoding\n",
    "data = pd.get_dummies(data, columns=['state'], drop_first=True)\n",
    "# Convert state to float (0.0 or 1.0)\n",
    "data['state_discharge'] = data['state_discharge'].astype(float)\n"
   ]
  },
  {
   "cell_type": "code",
   "execution_count": null,
   "metadata": {},
   "outputs": [],
   "source": [
    "print(data[:4])"
   ]
  },
  {
   "cell_type": "code",
   "execution_count": 6,
   "metadata": {},
   "outputs": [],
   "source": [
    "# Split data into features (X) and target (y)\n",
    "X = data.drop('Temperature_measured (C)', axis=1)\n",
    "y = data['Temperature_measured (C)']\n"
   ]
  },
  {
   "cell_type": "code",
   "execution_count": 7,
   "metadata": {},
   "outputs": [],
   "source": [
    "X_scaled = X.values  # بدون نرمال‌سازی"
   ]
  },
  {
   "cell_type": "code",
   "execution_count": 8,
   "metadata": {},
   "outputs": [],
   "source": [
    "# Split data into training and testing sets\n",
    "X_train, X_test, y_train, y_test = train_test_split(X_scaled, y, test_size=0.2, random_state=42)\n",
    "\n",
    "# 3. Build the neural network model\n",
    "model = tf.keras.Sequential([\n",
    "    tf.keras.layers.Dense(32, activation='relu', input_shape=(X_train.shape[1],)),\n",
    "    tf.keras.layers.Dense(16, activation='relu'),\n",
    "    tf.keras.layers.Dense(1) \n",
    "])\n",
    "# 4. Compile and train the model\n",
    "model.compile(optimizer='adam', loss='mean_squared_error')"
   ]
  },
  {
   "cell_type": "code",
   "execution_count": null,
   "metadata": {},
   "outputs": [],
   "source": [
    "\n",
    "history = model.fit(X_train, y_train, epochs=10, batch_size=32, validation_data=(X_test, y_test))\n"
   ]
  },
  {
   "cell_type": "code",
   "execution_count": null,
   "metadata": {},
   "outputs": [],
   "source": [
    "# 5. Evaluate the model\n",
    "loss = model.evaluate(X_test, y_test)\n",
    "print(f'Loss: {loss}')\n"
   ]
  },
  {
   "cell_type": "code",
   "execution_count": null,
   "metadata": {},
   "outputs": [],
   "source": [
    "# 6. Predict temperature and compare with actual values\n",
    "y_pred = model.predict(X_test)"
   ]
  },
  {
   "cell_type": "code",
   "execution_count": null,
   "metadata": {},
   "outputs": [],
   "source": [
    "# 7. Plot comparison chart\n",
    "plt.figure(figsize=(10,6))\n",
    "plt.plot(y_test.values, label='true values',)\n",
    "plt.plot(y_pred, label=\"predicted values\", linestyle='--')\n",
    "plt.xlabel('samples')\n",
    "plt.ylabel('temp')\n",
    "plt.legend()\n",
    "plt.title(\"compare true values and predicted values\")\n",
    "plt.show()"
   ]
  },
  {
   "cell_type": "code",
   "execution_count": null,
   "metadata": {},
   "outputs": [],
   "source": [
    "# Convert model to TensorFlow Lite format\n",
    "converter = tf.lite.TFLiteConverter.from_keras_model(model)\n",
    "tflite_model = converter.convert()\n",
    "# Save TensorFlow Lite model to file\n",
    "with open('model.tflite', 'wb') as f:\n",
    "    f.write(tflite_model)"
   ]
  },
  {
   "cell_type": "code",
   "execution_count": null,
   "metadata": {},
   "outputs": [],
   "source": [
    "# Initialize TFLite interpreter\n",
    "interpreter = tf.lite.Interpreter(model_path=\"model.tflite\")\n",
    "interpreter.allocate_tensors()\n",
    "\n",
    "# Initialize TFLite interpreter\n",
    "print(\"TensorFlow Lite Ops in model:\")\n",
    "for op in interpreter._get_ops_details():\n",
    "    print(op)\n"
   ]
  },
  {
   "cell_type": "code",
   "execution_count": null,
   "metadata": {},
   "outputs": [],
   "source": [
    "# Load test data for inference\n",
    "interpreter = tf.lite.Interpreter(model_path=\"model.tflite\")\n",
    "interpreter.allocate_tensors()\n",
    "\n",
    "\n",
    "input_details = interpreter.get_input_details()\n",
    "output_details = interpreter.get_output_details()\n",
    "\n",
    "# Load test data for inference\n",
    "data = pd.read_csv(\"test_data.csv\")\n",
    "data = data[['Voltage_measured (Volts)', 'Current_measured (Amps)', 'state', 'Time (secs)']]\n",
    "data = pd.get_dummies(data, columns=['state'], drop_first=True)\n",
    "data['state_discharge'] = data['state_discharge'].astype(float)\n",
    "\n",
    "X_scaled = data.values  # Original data without scaling\n",
    "\n",
    "\n",
    "# Inference on test data\n",
    "for i in range(100):\n",
    "    input_data = np.array(X_scaled[i], dtype=np.float32).reshape(1, -1)\n",
    "\n",
    "    # Set input tensor\n",
    "    interpreter.set_tensor(input_details[0]['index'], input_data)\n",
    "\n",
    "    # Invoke the model\n",
    "    interpreter.invoke()\n",
    "\n",
    "    # Get predicted temperature\n",
    "    predicted_temperature = interpreter.get_tensor(output_details[0]['index'])[0][0]\n",
    "    print(f\"Sample {i+1}: Predicted Temperature = {predicted_temperature:.2f}\")\n",
    "    "
   ]
  }
 ],
 "metadata": {
  "kernelspec": {
   "display_name": "Python 3",
   "language": "python",
   "name": "python3"
  },
  "language_info": {
   "codemirror_mode": {
    "name": "ipython",
    "version": 3
   },
   "file_extension": ".py",
   "mimetype": "text/x-python",
   "name": "python",
   "nbconvert_exporter": "python",
   "pygments_lexer": "ipython3",
   "version": "3.11.9"
  }
 },
 "nbformat": 4,
 "nbformat_minor": 2
}
